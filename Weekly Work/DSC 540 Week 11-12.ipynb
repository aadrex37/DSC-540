{
 "cells": [
  {
   "cell_type": "code",
   "execution_count": 2,
   "id": "adce7dec",
   "metadata": {},
   "outputs": [],
   "source": [
    "import pandas as pd\n",
    "import numpy as np"
   ]
  },
  {
   "cell_type": "code",
   "execution_count": 3,
   "id": "e25c7bf5",
   "metadata": {},
   "outputs": [],
   "source": [
    "import sqlite3"
   ]
  },
  {
   "cell_type": "code",
   "execution_count": 10,
   "id": "23095704",
   "metadata": {},
   "outputs": [],
   "source": [
    "conn = sqlite3.connect(\"petsdb\")"
   ]
  },
  {
   "cell_type": "code",
   "execution_count": 21,
   "id": "f8041f8f",
   "metadata": {},
   "outputs": [],
   "source": [
    "def is_opened(conn):\n",
    "    try:\n",
    "        conn.execute(\"SELECT * FROM persons LIMIT 1\")\n",
    "        return True\n",
    "    except sqlite3.ProgrammingError as e:\n",
    "        print(\"Connection closed {}\".format(e))\n",
    "        return False"
   ]
  },
  {
   "cell_type": "code",
   "execution_count": 22,
   "id": "93110230",
   "metadata": {},
   "outputs": [
    {
     "name": "stdout",
     "output_type": "stream",
     "text": [
      "True\n"
     ]
    }
   ],
   "source": [
    "print(is_opened(conn))"
   ]
  },
  {
   "cell_type": "code",
   "execution_count": 23,
   "id": "f9d0e05c",
   "metadata": {},
   "outputs": [],
   "source": [
    "conn.close()"
   ]
  },
  {
   "cell_type": "code",
   "execution_count": 24,
   "id": "f2148c20",
   "metadata": {},
   "outputs": [
    {
     "name": "stdout",
     "output_type": "stream",
     "text": [
      "Connection closed Cannot operate on a closed database.\n",
      "False\n"
     ]
    }
   ],
   "source": [
    "print(is_opened(conn))"
   ]
  },
  {
   "cell_type": "code",
   "execution_count": 11,
   "id": "0c197d53",
   "metadata": {},
   "outputs": [],
   "source": [
    "c = conn.cursor()"
   ]
  },
  {
   "cell_type": "code",
   "execution_count": 12,
   "id": "5e5196ea",
   "metadata": {},
   "outputs": [
    {
     "name": "stdout",
     "output_type": "stream",
     "text": [
      "There are  2 people who are the age 5\n",
      "There are  1 people who are the age 6\n",
      "There are  1 people who are the age 7\n",
      "There are  3 people who are the age 8\n",
      "There are  1 people who are the age 9\n",
      "There are  2 people who are the age 11\n",
      "There are  3 people who are the age 12\n",
      "There are  1 people who are the age 13\n",
      "There are  4 people who are the age 14\n",
      "There are  2 people who are the age 16\n",
      "There are  2 people who are the age 17\n",
      "There are  3 people who are the age 18\n",
      "There are  1 people who are the age 19\n",
      "There are  3 people who are the age 22\n",
      "There are  2 people who are the age 23\n",
      "There are  3 people who are the age 24\n",
      "There are  2 people who are the age 25\n",
      "There are  1 people who are the age 27\n",
      "There are  1 people who are the age 30\n",
      "There are  3 people who are the age 31\n",
      "There are  1 people who are the age 32\n",
      "There are  1 people who are the age 33\n",
      "There are  2 people who are the age 34\n",
      "There are  3 people who are the age 35\n",
      "There are  3 people who are the age 36\n",
      "There are  1 people who are the age 37\n",
      "There are  2 people who are the age 39\n",
      "There are  1 people who are the age 40\n",
      "There are  1 people who are the age 42\n",
      "There are  2 people who are the age 44\n",
      "There are  2 people who are the age 48\n",
      "There are  1 people who are the age 49\n",
      "There are  1 people who are the age 50\n",
      "There are  2 people who are the age 51\n",
      "There are  2 people who are the age 52\n",
      "There are  2 people who are the age 53\n",
      "There are  2 people who are the age 54\n",
      "There are  1 people who are the age 58\n",
      "There are  1 people who are the age 59\n",
      "There are  1 people who are the age 60\n",
      "There are  1 people who are the age 61\n",
      "There are  2 people who are the age 62\n",
      "There are  1 people who are the age 63\n",
      "There are  2 people who are the age 65\n",
      "There are  2 people who are the age 66\n",
      "There are  1 people who are the age 67\n",
      "There are  3 people who are the age 68\n",
      "There are  1 people who are the age 69\n",
      "There are  1 people who are the age 70\n",
      "There are  4 people who are the age 71\n",
      "There are  1 people who are the age 72\n",
      "There are  5 people who are the age 73\n",
      "There are  3 people who are the age 74\n"
     ]
    }
   ],
   "source": [
    "##age groups in table\n",
    "for pp, age in c.execute(\"SELECT count(*), age FROM persons GROUP BY age\"):\n",
    "    print(\"There are  {} people who are the age {}\".format(pp, age))"
   ]
  },
  {
   "cell_type": "code",
   "execution_count": 13,
   "id": "49745bda",
   "metadata": {},
   "outputs": [
    {
     "name": "stdout",
     "output_type": "stream",
     "text": [
      "The greatest number of people is 5, which came from the 73 age group\n"
     ]
    }
   ],
   "source": [
    "## which age group has the maximum number of people\n",
    "for pp, age in c.execute(\"SELECT count(*), age FROM persons GROUP BY age ORDER BY count(*) DESC\"):\n",
    "    print(\"The greatest number of people is {}, which came from the {} age group\".format(pp, age))\n",
    "    break"
   ]
  },
  {
   "cell_type": "code",
   "execution_count": 14,
   "id": "cadd9ce7",
   "metadata": {},
   "outputs": [
    {
     "name": "stdout",
     "output_type": "stream",
     "text": [
      "(60,)\n"
     ]
    }
   ],
   "source": [
    "## how many people have no last name\n",
    "res = c.execute(\"SELECT count(*) FROM persons WHERE last_name IS null\")\n",
    "for row in res:\n",
    "    print(row)"
   ]
  },
  {
   "cell_type": "code",
   "execution_count": 16,
   "id": "dab1ee55",
   "metadata": {},
   "outputs": [
    {
     "name": "stdout",
     "output_type": "stream",
     "text": [
      "43 People have more than one pet\n"
     ]
    }
   ],
   "source": [
    "## how many people with More than 1 pet\n",
    "res = c.execute(\"SELECT count(*) FROM (SELECT count(owner_id) FROM pets GROUP BY owner_id HAVING count(owner_id) >1)\")\n",
    "for row in res:\n",
    "    print(\"{} People have more than one pet\".format(row[0]))"
   ]
  },
  {
   "cell_type": "code",
   "execution_count": 17,
   "id": "8b2f12ff",
   "metadata": {},
   "outputs": [
    {
     "name": "stdout",
     "output_type": "stream",
     "text": [
      "(36,)\n"
     ]
    }
   ],
   "source": [
    "## how many pets have received treaments\n",
    "res = c.execute(\"SELECT count(*) FROM pets WHERE treatment_done=1\")\n",
    "for row in res:\n",
    "    print(row)"
   ]
  },
  {
   "cell_type": "code",
   "execution_count": 18,
   "id": "f59393b9",
   "metadata": {},
   "outputs": [
    {
     "name": "stdout",
     "output_type": "stream",
     "text": [
      "(16,)\n"
     ]
    }
   ],
   "source": [
    "##how many pets have received treatment and the type of pet is known\n",
    "res = c.execute(\"SELECT count(*) FROM pets WHERE treatment_done=1 AND pet_type IS NOT null\")\n",
    "for row in res:\n",
    "    print(row)"
   ]
  },
  {
   "cell_type": "code",
   "execution_count": 19,
   "id": "35265b37",
   "metadata": {},
   "outputs": [
    {
     "name": "stdout",
     "output_type": "stream",
     "text": [
      "(49,)\n"
     ]
    }
   ],
   "source": [
    "##how many pets are from the city called east port\n",
    "res = c.execute(\"SELECT count(*) FROM pets JOIN persons ON pets.owner_id = persons.id WHERE persons.city='east port'\")\n",
    "for row in res:\n",
    "    print(row)"
   ]
  },
  {
   "cell_type": "code",
   "execution_count": 20,
   "id": "9556603b",
   "metadata": {},
   "outputs": [
    {
     "name": "stdout",
     "output_type": "stream",
     "text": [
      "(11,)\n"
     ]
    }
   ],
   "source": [
    "##how many pets are from the city called east port and who received a treatment\n",
    "res = c.execute(\"SELECT count(*) FROM pets JOIN persons ON pets.owner_id = persons.id WHERE persons.city='east port' AND pets.treatment_done=1\")\n",
    "for row in res:\n",
    "    print(row)"
   ]
  },
  {
   "cell_type": "code",
   "execution_count": null,
   "id": "933ca334",
   "metadata": {},
   "outputs": [],
   "source": []
  }
 ],
 "metadata": {
  "kernelspec": {
   "display_name": "Python 3",
   "language": "python",
   "name": "python3"
  },
  "language_info": {
   "codemirror_mode": {
    "name": "ipython",
    "version": 3
   },
   "file_extension": ".py",
   "mimetype": "text/x-python",
   "name": "python",
   "nbconvert_exporter": "python",
   "pygments_lexer": "ipython3",
   "version": "3.8.8"
  }
 },
 "nbformat": 4,
 "nbformat_minor": 5
}
