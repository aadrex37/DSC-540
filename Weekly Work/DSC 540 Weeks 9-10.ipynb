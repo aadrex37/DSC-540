{
 "cells": [
  {
   "cell_type": "code",
   "execution_count": 30,
   "id": "4b989515",
   "metadata": {},
   "outputs": [],
   "source": [
    "##import libraries\n",
    "import urllib.request, urllib.parse, urllib.error\n",
    "import requests\n",
    "from bs4 import BeautifulSoup\n",
    "import ssl\n",
    "import re"
   ]
  },
  {
   "cell_type": "code",
   "execution_count": 31,
   "id": "db6ea7a9",
   "metadata": {},
   "outputs": [],
   "source": [
    "## Ignore SSL certificate errors\n",
    "ctx = ssl.create_default_context()\n",
    "ctx.check_hostname = False\n",
    "ctx.verify_mode = ssl.CERT_NONE"
   ]
  },
  {
   "cell_type": "code",
   "execution_count": 32,
   "id": "4c484fa7",
   "metadata": {},
   "outputs": [],
   "source": [
    "## Read HTML from URL\n",
    "top = 'https://www.gutenberg.org/browse/scores/top'\n",
    "res = requests.get(top)"
   ]
  },
  {
   "cell_type": "code",
   "execution_count": 33,
   "id": "944e1fe5",
   "metadata": {},
   "outputs": [],
   "source": [
    "##function to check status of web request\n",
    "def status(r):\n",
    "    if r.status_code==200:\n",
    "        print(\"Success!\")\n",
    "        return 1\n",
    "    else:\n",
    "        print(\"Failed!\")\n",
    "        return -1"
   ]
  },
  {
   "cell_type": "code",
   "execution_count": 34,
   "id": "74da0a60",
   "metadata": {},
   "outputs": [
    {
     "name": "stdout",
     "output_type": "stream",
     "text": [
      "Success!\n"
     ]
    },
    {
     "data": {
      "text/plain": [
       "1"
      ]
     },
     "execution_count": 34,
     "metadata": {},
     "output_type": "execute_result"
    }
   ],
   "source": [
    "status(res)"
   ]
  },
  {
   "cell_type": "code",
   "execution_count": 35,
   "id": "38629bab",
   "metadata": {},
   "outputs": [],
   "source": [
    "##Decode the response and pass this on to BeautifulSoup for HTML parsing\n",
    "content = res.content.decode(res.encoding)\n",
    "soup = BeautifulSoup(content, 'html.parser')"
   ]
  },
  {
   "cell_type": "code",
   "execution_count": 36,
   "id": "f75038a3",
   "metadata": {},
   "outputs": [
    {
     "data": {
      "text/plain": [
       "['/',\n",
       " '/about/',\n",
       " '/about/',\n",
       " '/policy/collection_development.html',\n",
       " '/about/contact_information.html',\n",
       " '/about/background/',\n",
       " '/policy/permission.html',\n",
       " '/policy/privacy_policy.html',\n",
       " '/policy/terms_of_use.html',\n",
       " '/ebooks/',\n",
       " '/ebooks/',\n",
       " '/ebooks/bookshelf/',\n",
       " '/browse/scores/top',\n",
       " '/ebooks/offline_catalogs.html',\n",
       " '/help/',\n",
       " '/help/',\n",
       " '/help/copyright.html',\n",
       " '/help/errata.html',\n",
       " '/help/file_formats.html',\n",
       " '/help/faq.html',\n",
       " '/policy/',\n",
       " '/help/public_domain_ebook_submission.html',\n",
       " '/help/submitting_your_own_work.html',\n",
       " '/help/mobile.html',\n",
       " '/attic/',\n",
       " '/donate/',\n",
       " '/donate/',\n",
       " '#books-last1',\n",
       " '#authors-last1',\n",
       " '#books-last7']"
      ]
     },
     "execution_count": 36,
     "metadata": {},
     "output_type": "execute_result"
    }
   ],
   "source": [
    "##Find all the href tags and store them in the list of links. Check what the list looks like – print the first 30 elements\n",
    "links=[] ##empty list to store links\n",
    "for link in soup.find_all('a'): ##finds tags and stores them in list\n",
    "    links.append(link.get('href'))\n",
    "links[:30] ##returns part of list"
   ]
  },
  {
   "cell_type": "code",
   "execution_count": 37,
   "id": "968d268f",
   "metadata": {},
   "outputs": [],
   "source": [
    "##Use a regular expression to find the numeric digits in these links. These are the file numbers for the top 100 eBooks\n",
    "\n",
    "book=[]##list to store\n",
    "##Number 19 to 118 in the original list of links have the Top 100 ebooks' number.\n",
    "##Loop over appropriate range and use regex to find the numeric digits in the link (href) string.\n",
    "for i in range(19,119):\n",
    "    link=links[i]\n",
    "    link=link.strip()# Regular expression to find the numeric digits in the link (href) string\n",
    "    n=re.findall('[0-9]+',link)\n",
    "    if len(n)==1:# Append the filenumber casted as integer\n",
    "        book.append(int(n[0]))"
   ]
  },
  {
   "cell_type": "code",
   "execution_count": 38,
   "id": "32e4aaab",
   "metadata": {},
   "outputs": [
    {
     "name": "stdout",
     "output_type": "stream",
     "text": [
      "\n",
      "The file numbers for the top 100 ebooks on Gutenberg are shown below\n",
      "----------------------------------------------------------------------\n",
      "[1, 1, 7, 7, 30, 30, 84, 1342, 25344, 46, 1250, 345, 11, 2701, 174, 28548, 64317, 43, 1080, 2542, 844, 1661, 1260, 76, 98, 66667, 66668, 205, 219, 5200, 4980, 1232, 160, 1952, 66663, 66669, 23, 2591, 1727, 74, 32992, 41, 63256, 2554, 2600, 6130, 408, 2852, 66671, 215, 16, 3825, 2148, 1400, 1184, 514, 16328, 4300, 55, 7370, 5740, 996, 2814, 48809, 120, 730, 3207, 34901, 45, 66661, 158, 768, 203, 2500, 36, 1497, 11030, 58585, 8492, 42884, 28054, 829, 32449, 244, 140, 779, 1524, 20203, 13701, 1597, 30254, 4363]\n"
     ]
    }
   ],
   "source": [
    "print(\"\\nThe file numbers for the top 100 ebooks on Gutenberg are shown below\\n\"+\"-\"*70)\n",
    "print(book)##Print file numbers"
   ]
  },
  {
   "cell_type": "code",
   "execution_count": 39,
   "id": "90806d93",
   "metadata": {},
   "outputs": [
    {
     "name": "stdout",
     "output_type": "stream",
     "text": [
      "\n",
      "\n",
      "\n",
      "\n",
      "Top 100 | Project Gutenberg\n",
      "\n",
      "\n",
      "\n",
      "\n",
      "\n",
      "\n",
      "\n",
      "\n",
      "\n",
      "\n",
      "\n",
      "\n",
      "\n",
      "\n",
      "\n",
      "\n",
      "\n",
      "\n",
      "\n",
      "\n",
      "\n",
      "\n",
      "\n",
      "\n",
      "\n",
      "\n",
      "\n",
      "Menu▾\n",
      "\n",
      "\n",
      "\n",
      "About\n",
      "          ▾\n",
      "\n",
      "▾\n",
      "\n",
      "\n",
      "About Project Gutenberg\n",
      "Collection Development\n",
      "Contact Us\n",
      "History & Philosophy\n",
      "Permissions & License\n",
      "Privacy Policy\n",
      "Terms of Use\n",
      "\n",
      "\n",
      "\n",
      "Search and Browse\n",
      "      \t  ▾\n",
      "\n",
      "▾\n",
      "\n",
      "\n",
      "Book Search\n",
      "Bookshelves\n",
      "Frequently Downloaded\n",
      "Offline Catalogs\n",
      "\n",
      "\n",
      "\n",
      "Help\n",
      "          ▾\n",
      "\n",
      "▾\n",
      "\n",
      "\n",
      "All help topics →\n",
      "Copyright Procedures\n",
      "Errata, Fixes and Bug Reports\n",
      "File Formats\n",
      "Frequently Asked Questions\n",
      "Policies →\n",
      "Public Domain eBook Submission\n",
      "Submitting Your Own Work\n",
      "Tablets, Phones and eReaders\n",
      "The Attic →\n",
      "\n",
      "\n",
      "Donate\n",
      "\n",
      "\n",
      "\n",
      "\n",
      "\n",
      "\n",
      "\n",
      "\n",
      "\n",
      "\n",
      "Donation\n",
      "\n",
      "\n",
      "\n",
      "\n",
      "\n",
      "\n",
      "\n",
      "Frequently Viewed or Downloaded\n",
      "These listings are based on the number of times each eBook gets downloaded.\n",
      "      Multiple downloads from the same Internet address on the same day count as one download, and addresses that download more than 100 eBooks in a day are considered robots and are not counted.\n",
      "\n",
      "Downloaded Books\n",
      "2021-11-05161900\n",
      "last 7 days1176730\n",
      "last 30 days4937924\n",
      "\n",
      "\n",
      "\n",
      "Top 100 EBooks yesterday\n",
      "Top 100 Authors yesterday\n",
      "Top 100 EBooks last 7 days\n",
      "Top 100 Authors last 7 days\n",
      "Top 100 EBooks last 30 days\n",
      "Top 100 Authors last 30 days\n",
      "\n",
      "\n",
      "Top 100 EBooks yesterday\n",
      "\n",
      "Frankenstein; Or, The Modern Prometheus by Mary Wollstonecraft Shelley (3107)\n",
      "Pride and Prejudice by Jane Austen (1720)\n",
      "The Scarlet Letter by Nathaniel Hawthorne (1260)\n",
      "A Christmas Carol in Prose; Being a Ghost Story of Christmas by Charles Dickens (1025)\n",
      "Anthem by Ayn Rand (1014)\n",
      "Dracula by Bram Stoker (989)\n",
      "Alice's Adventures in Wonderland by Lewis Carroll (885)\n",
      "Moby Dick; Or, The Whale by Herman Melville (756)\n",
      "The Picture of Dorian Gray by Oscar Wilde (694)\n",
      "Gipsy Life by George Smith (679)\n",
      "The Great Gatsby by F. Scott  Fitzgerald (673)\n",
      "The Strange Case of Dr. Jekyll and Mr. Hyde by Robert Louis Stevenson (662)\n",
      "A Modest Proposal by Jonathan Swift (641)\n",
      "A Doll's House : a play by Henrik Ibsen (633)\n",
      "The Importance of Being Earnest: A Trivial Comedy for Serious People by Oscar Wilde (588)\n",
      "The Adventures of Sherlock Holme\n"
     ]
    }
   ],
   "source": [
    "print(soup.text[:2000])##What the soup looks like"
   ]
  },
  {
   "cell_type": "code",
   "execution_count": 40,
   "id": "d0c92a36",
   "metadata": {},
   "outputs": [],
   "source": [
    "##Search in the extracted text (using a regular expression) from the soup object to find the names of the top 100 eBooks (yesterday's ranking)\n",
    "\n",
    "titles_temp=[]##temporary list for ebooks\n",
    "start_idx=soup.text.splitlines().index('Top 100 EBooks yesterday')##create starting index\n",
    "##Loop 1-100 to add the strings of next 100 lines to this temporary list\n",
    "for i in range(100):\n",
    "    titles_temp.append(soup.text.splitlines()[start_idx+2+i])"
   ]
  },
  {
   "cell_type": "code",
   "execution_count": 41,
   "id": "47909624",
   "metadata": {},
   "outputs": [],
   "source": [
    "##Use regular expression to extract only text from the name strings and append to an empty list\n",
    "titles=[]##empty list of titles\n",
    "for i in range(100):\n",
    "    id1,id2=re.match('^[a-zA-Z ]*',titles_temp[i]).span()\n",
    "    titles.append(titles_temp[i][id1:id2])"
   ]
  },
  {
   "cell_type": "code",
   "execution_count": 42,
   "id": "eaca57c0",
   "metadata": {},
   "outputs": [
    {
     "name": "stdout",
     "output_type": "stream",
     "text": [
      "Top \n",
      "Top \n",
      "Top \n",
      "Top \n",
      "\n",
      "\n",
      "Top \n",
      "\n",
      "Frankenstein\n",
      "Pride and Prejudice by Jane Austen \n",
      "The Scarlet Letter by Nathaniel Hawthorne \n",
      "A Christmas Carol in Prose\n",
      "Anthem by Ayn Rand \n",
      "Dracula by Bram Stoker \n",
      "Alice\n",
      "Moby Dick\n",
      "The Picture of Dorian Gray by Oscar Wilde \n",
      "Gipsy Life by George Smith \n",
      "The Great Gatsby by F\n",
      "The Strange Case of Dr\n",
      "A Modest Proposal by Jonathan Swift \n",
      "A Doll\n",
      "The Importance of Being Earnest\n",
      "The Adventures of Sherlock Holmes by Arthur Conan Doyle \n",
      "Jane Eyre\n",
      "Adventures of Huckleberry Finn by Mark Twain \n",
      "A Tale of Two Cities by Charles Dickens \n",
      "Penmanship\n",
      "Butterflies and Moths\n",
      "Walden\n",
      "Heart of Darkness by Joseph Conrad \n",
      "Metamorphosis by Franz Kafka \n",
      "Old Granny Fox by Thornton W\n",
      "The Prince by Niccol\n",
      "The Awakening\n",
      "The Yellow Wallpaper by Charlotte Perkins Gilman \n",
      "Ancient history from the monuments\n",
      "The Sea\n",
      "Narrative of the Life of Frederick Douglass\n",
      "Grimms\n",
      "The Odyssey by Homer \n",
      "The Adventures of Tom Sawyer\n",
      "The Youngest Girl in the School by Evelyn Sharp \n",
      "The Legend of Sleepy Hollow by Washington Irving \n",
      "The American Diary of a Japanese Girl by Yon\n",
      "Crime and Punishment by Fyodor Dostoyevsky \n",
      "War and Peace by graf Leo Tolstoy \n",
      "The Iliad by Homer \n",
      "The Souls of Black Folk by W\n",
      "The Hound of the Baskervilles by Arthur Conan Doyle \n",
      "Mr\n",
      "The Call of the Wild by Jack London \n",
      "Peter Pan by J\n",
      "Pygmalion by Bernard Shaw \n",
      "The Works of Edgar Allan Poe \n",
      "Great Expectations by Charles Dickens \n",
      "The Count of Monte Cristo\n",
      "Little Women by Louisa May Alcott \n",
      "Beowulf\n",
      "Ulysses by James Joyce \n",
      "The Wonderful Wizard of Oz by L\n",
      "Second Treatise of Government by John Locke \n",
      "Tractatus Logico\n",
      "Don Quixote by Miguel de Cervantes Saavedra \n",
      "Dubliners by James Joyce \n",
      "Plans and Illustrations of Prisons and Reformatories \n",
      "Treasure Island by Robert Louis Stevenson \n",
      "Oliver Twist by Charles Dickens \n",
      "Leviathan by Thomas Hobbes \n",
      "On Liberty by John Stuart Mill \n",
      "Anne of Green Gables by L\n",
      "The Truth About an Author by Arnold Bennett \n",
      "Emma by Jane Austen \n",
      "Wuthering Heights by Emily Bront\n",
      "Uncle Tom\n",
      "Siddhartha by Hermann Hesse \n",
      "The War of the Worlds by H\n",
      "The Republic by Plato \n",
      "Incidents in the Life of a Slave Girl\n",
      "The Prophet by Kahlil Gibran \n",
      "The King in Yellow by Robert W\n",
      "The Philippine Islands\n",
      "The Brothers Karamazov by Fyodor Dostoyevsky \n",
      "Gulliver\n",
      "Japanese Girls and Women by Alice Mabel Bacon \n",
      "A Study in Scarlet by Arthur Conan Doyle \n",
      "The Jungle by Upton Sinclair \n",
      "The Tragical History of Doctor Faustus by Christopher Marlowe \n",
      "Hamlet\n",
      "Autobiography of Benjamin Franklin by Benjamin Franklin \n",
      "The Philippine Islands\n",
      "Andersen\n",
      "The Romance of Lust\n",
      "Beyond Good and Evil by Friedrich Wilhelm Nietzsche \n",
      "The Happy Prince\n",
      "Alice\n",
      "Thus Spake Zarathustra\n",
      "The Life and Adventures of Robinson Crusoe by Daniel Defoe \n",
      "Les Mis\n",
      "The Turn of the Screw by Henry James \n"
     ]
    }
   ],
   "source": [
    "for l in titles:##print titles\n",
    "    print(l)"
   ]
  },
  {
   "cell_type": "code",
   "execution_count": 43,
   "id": "1565949b",
   "metadata": {},
   "outputs": [],
   "source": [
    "import urllib.request, urllib.parse, urllib.error\n",
    "import json"
   ]
  },
  {
   "cell_type": "code",
   "execution_count": 44,
   "id": "17d14b33",
   "metadata": {},
   "outputs": [],
   "source": [
    "response = requests.get(\"http://www.omdbapi.com/?i=tt3896198&apikey=725d9979\").text ##secret api key"
   ]
  },
  {
   "cell_type": "code",
   "execution_count": 45,
   "id": "23723803",
   "metadata": {},
   "outputs": [],
   "source": [
    "omdbapi = json.loads(response)##Loads txt file of API into JSON"
   ]
  },
  {
   "cell_type": "code",
   "execution_count": 46,
   "id": "6e38d7a3",
   "metadata": {},
   "outputs": [],
   "source": [
    "url = 'http://www.omdbapi.com/?i=tt3896198&apikey=725d9979/'\n",
    "apikey = '&apikey=725d9979'"
   ]
  },
  {
   "cell_type": "code",
   "execution_count": 47,
   "id": "863fd557",
   "metadata": {},
   "outputs": [],
   "source": [
    "##Write a utility function called print_json to print the movie data from a \n",
    "##JSON file (which we will get from the portal)\n",
    "\n",
    "def print_json(json_data):\n",
    "    keys=['Title', 'Year', 'Rated', 'Released', 'Runtime', 'Genre', 'Director', 'Writer', \n",
    "               'Actors', 'Plot', 'Language', 'Country', 'Awards', 'Ratings', \n",
    "               'Metascore', 'imdbRating', 'imdbVotes', 'imdbID']\n",
    "    print(\"-\"*50)\n",
    "    for k in keys:\n",
    "        if k in list(json_data.keys()):\n",
    "            print(f\"{k}: {json_data[k]}\")\n",
    "    print(\"-\"*50)"
   ]
  },
  {
   "cell_type": "code",
   "execution_count": 48,
   "id": "78e1cc29",
   "metadata": {},
   "outputs": [],
   "source": [
    "##Write a utility function to download a poster of the movie based on the information\n",
    "##from the jason dataset and save in your local folder\n",
    "\n",
    "def save_poster(json_data):\n",
    "    import os\n",
    "    title = json_data['Title']\n",
    "    poster_url = json_data['Poster']## Splits the poster url by '.' and picks up the last string as file extension\n",
    "    poster_file_extension=poster_url.split('.')[-1]## Reads the image file from web\n",
    "    poster_data = urllib.request.urlopen(poster_url).read() \n",
    "    savelocation=os.getcwd()+'\\\\'+'Posters'+'\\\\' ## Creates new directory if the directory does not exist. Otherwise, just use the existing path.\n",
    "    if not os.path.isdir(savelocation):\n",
    "        os.mkdir(savelocation) \n",
    "    filename=savelocation+str(title)+'.'+poster_file_extension\n",
    "    f=open(filename,'wb')\n",
    "    f.write(poster_data)\n",
    "    f.close()"
   ]
  },
  {
   "cell_type": "code",
   "execution_count": 55,
   "id": "6a929bdb",
   "metadata": {},
   "outputs": [],
   "source": [
    "##Write a utility function search_movie to search a movie by its name, \n",
    "##print the downloaded JSON data and save the movie poster in the local folder\n",
    "def search_movie(title):\n",
    "    try:\n",
    "        print(f'Retrieving the data of \"{title}\" now... ')\n",
    "        print(url)\n",
    "        uh = urllib.request.urlopen(url)\n",
    "        data = uh.read()\n",
    "        json_data=json.loads(data)\n",
    "        \n",
    "        if json_data['Response']=='True':\n",
    "            print_json(json_data)\n",
    "            # Asks user whether to download the poster of the movie\n",
    "            if json_data['Poster']!='N/A':\n",
    "                save_poster(json_data)\n",
    "        else:\n",
    "            print(\"Error encountered: \",json_data['Error'])\n",
    "    \n",
    "    except urllib.error.URLError as e:\n",
    "        print(f\"ERROR: {e.reason}\")"
   ]
  },
  {
   "cell_type": "code",
   "execution_count": 56,
   "id": "71040911",
   "metadata": {},
   "outputs": [
    {
     "name": "stdout",
     "output_type": "stream",
     "text": [
      "Retrieving the data of \"Titanic\" now... \n",
      "http://www.omdbapi.com/?i=tt3896198&apikey=725d9979/\n",
      "ERROR: Unauthorized\n"
     ]
    }
   ],
   "source": [
    "search_movie(\"Titanic\")"
   ]
  },
  {
   "cell_type": "code",
   "execution_count": null,
   "id": "3f73a620",
   "metadata": {},
   "outputs": [],
   "source": []
  },
  {
   "cell_type": "code",
   "execution_count": null,
   "id": "57dd37b5",
   "metadata": {},
   "outputs": [],
   "source": []
  },
  {
   "cell_type": "code",
   "execution_count": 1,
   "id": "7ff7fd13",
   "metadata": {},
   "outputs": [],
   "source": [
    "import pandas as pd\n",
    "import numpy as np\n",
    "import matplotlib.pyplot as plt"
   ]
  },
  {
   "cell_type": "code",
   "execution_count": 2,
   "id": "6cbaf0e1",
   "metadata": {},
   "outputs": [],
   "source": [
    "%matplotlib inline"
   ]
  },
  {
   "cell_type": "code",
   "execution_count": 3,
   "id": "1205fa60",
   "metadata": {},
   "outputs": [
    {
     "name": "stderr",
     "output_type": "stream",
     "text": [
      "/Users/aarondrexler/opt/anaconda3/lib/python3.8/site-packages/openpyxl/worksheet/_reader.py:312: UserWarning: Unknown extension is not supported and will be removed\n",
      "  warn(msg)\n"
     ]
    },
    {
     "data": {
      "text/html": [
       "<div>\n",
       "<style scoped>\n",
       "    .dataframe tbody tr th:only-of-type {\n",
       "        vertical-align: middle;\n",
       "    }\n",
       "\n",
       "    .dataframe tbody tr th {\n",
       "        vertical-align: top;\n",
       "    }\n",
       "\n",
       "    .dataframe thead th {\n",
       "        text-align: right;\n",
       "    }\n",
       "</style>\n",
       "<table border=\"1\" class=\"dataframe\">\n",
       "  <thead>\n",
       "    <tr style=\"text-align: right;\">\n",
       "      <th></th>\n",
       "      <th>ITEM</th>\n",
       "      <th>JOY</th>\n",
       "      <th>DESPAIR</th>\n",
       "      <th>NET FEELIES</th>\n",
       "      <th>NET CLOUT</th>\n",
       "      <th>DESPAIR (NEG)</th>\n",
       "    </tr>\n",
       "  </thead>\n",
       "  <tbody>\n",
       "    <tr>\n",
       "      <th>0</th>\n",
       "      <td>York Peppermint Patties</td>\n",
       "      <td>634</td>\n",
       "      <td>78</td>\n",
       "      <td>556.0</td>\n",
       "      <td>1.639118</td>\n",
       "      <td>-78.0</td>\n",
       "    </tr>\n",
       "    <tr>\n",
       "      <th>1</th>\n",
       "      <td>Whole Wheat anything</td>\n",
       "      <td>21</td>\n",
       "      <td>419</td>\n",
       "      <td>-398.0</td>\n",
       "      <td>1.012938</td>\n",
       "      <td>-419.0</td>\n",
       "    </tr>\n",
       "    <tr>\n",
       "      <th>2</th>\n",
       "      <td>White Bread</td>\n",
       "      <td>15</td>\n",
       "      <td>473</td>\n",
       "      <td>-458.0</td>\n",
       "      <td>1.123440</td>\n",
       "      <td>-473.0</td>\n",
       "    </tr>\n",
       "    <tr>\n",
       "      <th>3</th>\n",
       "      <td>Vicodin</td>\n",
       "      <td>323</td>\n",
       "      <td>210</td>\n",
       "      <td>113.0</td>\n",
       "      <td>1.227036</td>\n",
       "      <td>-210.0</td>\n",
       "    </tr>\n",
       "    <tr>\n",
       "      <th>4</th>\n",
       "      <td>Twix</td>\n",
       "      <td>770</td>\n",
       "      <td>26</td>\n",
       "      <td>744.0</td>\n",
       "      <td>1.832497</td>\n",
       "      <td>-26.0</td>\n",
       "    </tr>\n",
       "    <tr>\n",
       "      <th>...</th>\n",
       "      <td>...</td>\n",
       "      <td>...</td>\n",
       "      <td>...</td>\n",
       "      <td>...</td>\n",
       "      <td>...</td>\n",
       "      <td>...</td>\n",
       "    </tr>\n",
       "    <tr>\n",
       "      <th>82</th>\n",
       "      <td>Black Jacks</td>\n",
       "      <td>34</td>\n",
       "      <td>252</td>\n",
       "      <td>-218.0</td>\n",
       "      <td>0.658410</td>\n",
       "      <td>-252.0</td>\n",
       "    </tr>\n",
       "    <tr>\n",
       "      <th>83</th>\n",
       "      <td>Any full-sized candy bar</td>\n",
       "      <td>828</td>\n",
       "      <td>13</td>\n",
       "      <td>815.0</td>\n",
       "      <td>1.936093</td>\n",
       "      <td>-13.0</td>\n",
       "    </tr>\n",
       "    <tr>\n",
       "      <th>84</th>\n",
       "      <td>Anonymous brown globs that come in black and o...</td>\n",
       "      <td>120</td>\n",
       "      <td>663</td>\n",
       "      <td>-543.0</td>\n",
       "      <td>1.802569</td>\n",
       "      <td>-663.0</td>\n",
       "    </tr>\n",
       "    <tr>\n",
       "      <th>85</th>\n",
       "      <td>100 Grand Bar</td>\n",
       "      <td>570</td>\n",
       "      <td>34</td>\n",
       "      <td>536.0</td>\n",
       "      <td>1.390488</td>\n",
       "      <td>-34.0</td>\n",
       "    </tr>\n",
       "    <tr>\n",
       "      <th>86</th>\n",
       "      <td>NaN</td>\n",
       "      <td>26204</td>\n",
       "      <td>17563</td>\n",
       "      <td>NaN</td>\n",
       "      <td>NaN</td>\n",
       "      <td>NaN</td>\n",
       "    </tr>\n",
       "  </tbody>\n",
       "</table>\n",
       "<p>87 rows × 6 columns</p>\n",
       "</div>"
      ],
      "text/plain": [
       "                                                 ITEM    JOY  DESPAIR  \\\n",
       "0                             York Peppermint Patties    634       78   \n",
       "1                                Whole Wheat anything     21      419   \n",
       "2                                         White Bread     15      473   \n",
       "3                                             Vicodin    323      210   \n",
       "4                                                Twix    770       26   \n",
       "..                                                ...    ...      ...   \n",
       "82                                        Black Jacks     34      252   \n",
       "83                           Any full-sized candy bar    828       13   \n",
       "84  Anonymous brown globs that come in black and o...    120      663   \n",
       "85                                      100 Grand Bar    570       34   \n",
       "86                                                NaN  26204    17563   \n",
       "\n",
       "    NET FEELIES  NET CLOUT  DESPAIR (NEG)  \n",
       "0         556.0   1.639118          -78.0  \n",
       "1        -398.0   1.012938         -419.0  \n",
       "2        -458.0   1.123440         -473.0  \n",
       "3         113.0   1.227036         -210.0  \n",
       "4         744.0   1.832497          -26.0  \n",
       "..          ...        ...            ...  \n",
       "82       -218.0   0.658410         -252.0  \n",
       "83        815.0   1.936093          -13.0  \n",
       "84       -543.0   1.802569         -663.0  \n",
       "85        536.0   1.390488          -34.0  \n",
       "86          NaN        NaN            NaN  \n",
       "\n",
       "[87 rows x 6 columns]"
      ]
     },
     "execution_count": 3,
     "metadata": {},
     "output_type": "execute_result"
    }
   ],
   "source": [
    "candy = pd.read_excel('CANDYDATA.xlsx')\n",
    "candy"
   ]
  },
  {
   "cell_type": "code",
   "execution_count": 7,
   "id": "68353a09",
   "metadata": {},
   "outputs": [
    {
     "data": {
      "text/html": [
       "<div>\n",
       "<style scoped>\n",
       "    .dataframe tbody tr th:only-of-type {\n",
       "        vertical-align: middle;\n",
       "    }\n",
       "\n",
       "    .dataframe tbody tr th {\n",
       "        vertical-align: top;\n",
       "    }\n",
       "\n",
       "    .dataframe thead th {\n",
       "        text-align: right;\n",
       "    }\n",
       "</style>\n",
       "<table border=\"1\" class=\"dataframe\">\n",
       "  <thead>\n",
       "    <tr style=\"text-align: right;\">\n",
       "      <th></th>\n",
       "      <th>ITEM</th>\n",
       "      <th>JOY</th>\n",
       "      <th>DESPAIR</th>\n",
       "      <th>NET FEELIES</th>\n",
       "      <th>NET CLOUT</th>\n",
       "      <th>DESPAIR (NEG)</th>\n",
       "    </tr>\n",
       "  </thead>\n",
       "  <tbody>\n",
       "    <tr>\n",
       "      <th>0</th>\n",
       "      <td>York Peppermint Patties</td>\n",
       "      <td>634</td>\n",
       "      <td>78</td>\n",
       "      <td>556.0</td>\n",
       "      <td>1.639118</td>\n",
       "      <td>-78.0</td>\n",
       "    </tr>\n",
       "    <tr>\n",
       "      <th>1</th>\n",
       "      <td>Whole Wheat anything</td>\n",
       "      <td>21</td>\n",
       "      <td>419</td>\n",
       "      <td>-398.0</td>\n",
       "      <td>1.012938</td>\n",
       "      <td>-419.0</td>\n",
       "    </tr>\n",
       "    <tr>\n",
       "      <th>2</th>\n",
       "      <td>White Bread</td>\n",
       "      <td>15</td>\n",
       "      <td>473</td>\n",
       "      <td>-458.0</td>\n",
       "      <td>1.123440</td>\n",
       "      <td>-473.0</td>\n",
       "    </tr>\n",
       "    <tr>\n",
       "      <th>3</th>\n",
       "      <td>Vicodin</td>\n",
       "      <td>323</td>\n",
       "      <td>210</td>\n",
       "      <td>113.0</td>\n",
       "      <td>1.227036</td>\n",
       "      <td>-210.0</td>\n",
       "    </tr>\n",
       "    <tr>\n",
       "      <th>4</th>\n",
       "      <td>Twix</td>\n",
       "      <td>770</td>\n",
       "      <td>26</td>\n",
       "      <td>744.0</td>\n",
       "      <td>1.832497</td>\n",
       "      <td>-26.0</td>\n",
       "    </tr>\n",
       "    <tr>\n",
       "      <th>...</th>\n",
       "      <td>...</td>\n",
       "      <td>...</td>\n",
       "      <td>...</td>\n",
       "      <td>...</td>\n",
       "      <td>...</td>\n",
       "      <td>...</td>\n",
       "    </tr>\n",
       "    <tr>\n",
       "      <th>81</th>\n",
       "      <td>Bonkers</td>\n",
       "      <td>31</td>\n",
       "      <td>99</td>\n",
       "      <td>-68.0</td>\n",
       "      <td>0.299277</td>\n",
       "      <td>-99.0</td>\n",
       "    </tr>\n",
       "    <tr>\n",
       "      <th>82</th>\n",
       "      <td>Black Jacks</td>\n",
       "      <td>34</td>\n",
       "      <td>252</td>\n",
       "      <td>-218.0</td>\n",
       "      <td>0.658410</td>\n",
       "      <td>-252.0</td>\n",
       "    </tr>\n",
       "    <tr>\n",
       "      <th>83</th>\n",
       "      <td>Any full-sized candy bar</td>\n",
       "      <td>828</td>\n",
       "      <td>13</td>\n",
       "      <td>815.0</td>\n",
       "      <td>1.936093</td>\n",
       "      <td>-13.0</td>\n",
       "    </tr>\n",
       "    <tr>\n",
       "      <th>84</th>\n",
       "      <td>Anonymous brown globs that come in black and o...</td>\n",
       "      <td>120</td>\n",
       "      <td>663</td>\n",
       "      <td>-543.0</td>\n",
       "      <td>1.802569</td>\n",
       "      <td>-663.0</td>\n",
       "    </tr>\n",
       "    <tr>\n",
       "      <th>85</th>\n",
       "      <td>100 Grand Bar</td>\n",
       "      <td>570</td>\n",
       "      <td>34</td>\n",
       "      <td>536.0</td>\n",
       "      <td>1.390488</td>\n",
       "      <td>-34.0</td>\n",
       "    </tr>\n",
       "  </tbody>\n",
       "</table>\n",
       "<p>86 rows × 6 columns</p>\n",
       "</div>"
      ],
      "text/plain": [
       "                                                 ITEM  JOY  DESPAIR  \\\n",
       "0                             York Peppermint Patties  634       78   \n",
       "1                                Whole Wheat anything   21      419   \n",
       "2                                         White Bread   15      473   \n",
       "3                                             Vicodin  323      210   \n",
       "4                                                Twix  770       26   \n",
       "..                                                ...  ...      ...   \n",
       "81                                            Bonkers   31       99   \n",
       "82                                        Black Jacks   34      252   \n",
       "83                           Any full-sized candy bar  828       13   \n",
       "84  Anonymous brown globs that come in black and o...  120      663   \n",
       "85                                      100 Grand Bar  570       34   \n",
       "\n",
       "    NET FEELIES  NET CLOUT  DESPAIR (NEG)  \n",
       "0         556.0   1.639118          -78.0  \n",
       "1        -398.0   1.012938         -419.0  \n",
       "2        -458.0   1.123440         -473.0  \n",
       "3         113.0   1.227036         -210.0  \n",
       "4         744.0   1.832497          -26.0  \n",
       "..          ...        ...            ...  \n",
       "81        -68.0   0.299277          -99.0  \n",
       "82       -218.0   0.658410         -252.0  \n",
       "83        815.0   1.936093          -13.0  \n",
       "84       -543.0   1.802569         -663.0  \n",
       "85        536.0   1.390488          -34.0  \n",
       "\n",
       "[86 rows x 6 columns]"
      ]
     },
     "execution_count": 7,
     "metadata": {},
     "output_type": "execute_result"
    }
   ],
   "source": [
    "candy1=candy.dropna()\n",
    "candy1"
   ]
  },
  {
   "cell_type": "code",
   "execution_count": 9,
   "id": "e14d2693",
   "metadata": {},
   "outputs": [
    {
     "data": {
      "image/png": "[encoded data removed]",
      "text/plain": [
       "<Figure size 432x288 with 1 Axes>"
      ]
     },
     "metadata": {
      "needs_background": "light"
     },
     "output_type": "display_data"
    }
   ],
   "source": [
    "plt.plot(candy1['JOY'],candy1['DESPAIR'])\n",
    "plt.show()"
   ]
  },
  {
   "cell_type": "code",
   "execution_count": 10,
   "id": "28245dc3",
   "metadata": {},
   "outputs": [
    {
     "data": {
      "image/png": "[encoded data removed]",
      "text/plain": [
       "<Figure size 432x288 with 1 Axes>"
      ]
     },
     "metadata": {
      "needs_background": "light"
     },
     "output_type": "display_data"
    }
   ],
   "source": [
    "plt.scatter(candy1['JOY'],candy1['DESPAIR'])\n",
    "plt.show()"
   ]
  },
  {
   "cell_type": "code",
   "execution_count": 11,
   "id": "7a3f5ba7",
   "metadata": {},
   "outputs": [
    {
     "data": {
      "image/png": "[encoded data removed]",
      "text/plain": [
       "<Figure size 432x288 with 1 Axes>"
      ]
     },
     "metadata": {
      "needs_background": "light"
     },
     "output_type": "display_data"
    }
   ],
   "source": [
    "num_bins = 20\n",
    "plt.hist(candy1['JOY'], bins=num_bins)\n",
    "plt.show()"
   ]
  },
  {
   "cell_type": "code",
   "execution_count": null,
   "id": "94994121",
   "metadata": {},
   "outputs": [],
   "source": []
  }
 ],
 "metadata": {
  "kernelspec": {
   "display_name": "Python 3",
   "language": "python",
   "name": "python3"
  },
  "language_info": {
   "codemirror_mode": {
    "name": "ipython",
    "version": 3
   },
   "file_extension": ".py",
   "mimetype": "text/x-python",
   "name": "python",
   "nbconvert_exporter": "python",
   "pygments_lexer": "ipython3",
   "version": "3.8.8"
  }
 },
 "nbformat": 4,
 "nbformat_minor": 5
}
